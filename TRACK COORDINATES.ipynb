{
 "cells": [
  {
   "cell_type": "code",
   "execution_count": null,
   "metadata": {},
   "outputs": [],
   "source": [
    "import fastf1\n",
    "import pandas as pd\n",
    "\n",
    "# Enable cache\n",
    "fastf1.Cache.enable_cache(r'C:\\Users\\91910\\Downloads')  # Replace with your desired cache folder path\n",
    "\n",
    "# Load race session\n",
    "race = fastf1.get_session(2023, 'Bahrain', 'R')\n",
    "race.load()\n",
    "\n",
    "# Extract laps of the selected driver (e.g., 'VER')\n",
    "laps = race.laps.pick_driver('VER')\n",
    "\n",
    "# Find the fastest lap\n",
    "fastest_lap = laps.loc[laps['LapTime'].idxmin()]\n",
    "\n",
    "# Extract telemetry data for the fastest lap\n",
    "telemetry = fastest_lap.get_telemetry()\n",
    "\n",
    "# Convert the 'Time' column to seconds\n",
    "telemetry['Time'] = telemetry['Time'].dt.total_seconds()\n",
    "\n",
    "# Select the columns to be saved in the CSV\n",
    "telemetry_df = telemetry[['Time', 'X', 'Y', 'Speed']]\n",
    "\n",
    "# Save to CSV with 'Time' in seconds\n",
    "telemetry_df.to_csv('telemetry_data_VER_BAH_24SEASON.csv', index=False)\n",
    "\n",
    "print(\"Telemetry data for the fastest lap has been saved with 'Time' in seconds.\")\n"
   ]
  }
 ],
 "metadata": {
  "kernelspec": {
   "display_name": "base",
   "language": "python",
   "name": "python3"
  },
  "language_info": {
   "name": "python",
   "version": "3.11.5"
  }
 },
 "nbformat": 4,
 "nbformat_minor": 2
}
