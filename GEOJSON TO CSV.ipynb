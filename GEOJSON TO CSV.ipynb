{
 "cells": [
  {
   "cell_type": "code",
   "execution_count": null,
   "metadata": {},
   "outputs": [],
   "source": [
    "# THIS CODE IS TO GET DATA FROM GEOJSON AND MAKE A CSV FILE\n",
    "\n",
    "import json\n",
    "import csv\n",
    "\n",
    "# Load GeoJSON file\n",
    "geojson_file = \"bh-2002.geojson\"\n",
    "output_csv = \"scaled_coordinates.csv\"\n",
    "scale_factor = 100000  # Scaling factor for coordinates\n",
    "\n",
    "# Read GeoJSON and process coordinates\n",
    "with open(geojson_file, 'r') as file:\n",
    "    geojson_data = json.load(file)\n",
    "\n",
    "scaled_coordinates = []\n",
    "for feature in geojson_data[\"features\"]:\n",
    "    for lon, lat in feature[\"geometry\"][\"coordinates\"]:\n",
    "        x = lon * scale_factor\n",
    "        y = lat * scale_factor\n",
    "        z = 0  # Set Z-coordinate to 0 (flat)\n",
    "        scaled_coordinates.append([x, y, z])\n",
    "\n",
    "# Save scaled coordinates to CSV\n",
    "with open(output_csv, 'w', newline='') as csv_file:\n",
    "    writer = csv.writer(csv_file)\n",
    "    writer.writerow([\"X\", \"Y\", \"Z\"])  # Header\n",
    "    writer.writerows(scaled_coordinates)\n",
    "\n",
    "print(f\"Coordinates have been scaled and saved to {output_csv}\")"
   ]
  }
 ],
 "metadata": {
  "language_info": {
   "name": "python"
  }
 },
 "nbformat": 4,
 "nbformat_minor": 2
}
