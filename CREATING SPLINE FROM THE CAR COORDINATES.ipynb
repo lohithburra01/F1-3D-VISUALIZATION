{
 "cells": [
  {
   "cell_type": "code",
   "execution_count": null,
   "metadata": {},
   "outputs": [],
   "source": [
    "import bpy\n",
    "import csv\n",
    "\n",
    "# Load Leclerc's telemetry data\n",
    "leclerc_csv_path = r'path\\to\\telemetry_data_leclerc.csv'  # Update with the correct path to the CSV file\n",
    "\n",
    "# Function to create the curve path from telemetry data\n",
    "def create_curve_from_csv(csv_path, collection_name, curve_name):\n",
    "    # Create a new collection for Leclerc\n",
    "    leclerc_collection = bpy.data.collections.get(collection_name)\n",
    "    if not leclerc_collection:\n",
    "        leclerc_collection = bpy.data.collections.new(collection_name)\n",
    "        bpy.context.scene.collection.children.link(leclerc_collection)\n",
    "\n",
    "    # Create a new curve object\n",
    "    curve_data = bpy.data.curves.new(name=curve_name, type='CURVE')\n",
    "    curve_data.dimensions = '2D'\n",
    "    curve_data.use_path = True  # Make the curve usable as a path\n",
    "\n",
    "    # Create the spline for the curve\n",
    "    spline = curve_data.splines.new(type='POLY')\n",
    "\n",
    "    # Read the CSV and extract the points\n",
    "    points = []\n",
    "    with open(csv_path, 'r') as file:\n",
    "        reader = csv.DictReader(file)\n",
    "        for row in reader:\n",
    "            x = float(row['X']) / 10  # Scale down coordinates for Blender\n",
    "            y = float(row['Y']) / 10\n",
    "            points.append((x, y, 0))\n",
    "\n",
    "    # Set the points to the curve\n",
    "    spline.points.add(len(points) - 1)\n",
    "    for i, (x, y, z) in enumerate(points):\n",
    "        spline.points[i].co = (x, y, z, 1)  # The 4th value is weight\n",
    "\n",
    "    # Create and link the curve object\n",
    "    curve_obj = bpy.data.objects.new(curve_name, curve_data)\n",
    "    leclerc_collection.objects.link(curve_obj)\n",
    "\n",
    "    return curve_obj\n",
    "\n",
    "# Create the curve for Leclerc's path\n",
    "curve_name_leclerc = \"Leclerc_Path\"\n",
    "collection_name_leclerc = \"Leclerc_Animation\"\n",
    "\n",
    "# Create the curve for Leclerc's path\n",
    "leclerc_curve = create_curve_from_csv(leclerc_csv_path, collection_name_leclerc, curve_name_leclerc)\n"
   ]
  }
 ],
 "metadata": {
  "language_info": {
   "name": "python"
  }
 },
 "nbformat": 4,
 "nbformat_minor": 2
}
